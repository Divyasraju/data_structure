{
 "cells": [
  {
   "cell_type": "code",
   "execution_count": null,
   "metadata": {},
   "outputs": [],
   "source": [
    "#NODE\n",
    "class Node:\n",
    "    def __init__(self,data = None, next_node = None):\n",
    "        self.data=data\n",
    "        self.next_node=next_node\n",
    "    \n",
    "    def get_data(self):\n",
    "        return self.data\n",
    "    \n",
    "    def get_next_node(self):\n",
    "        return self.next_node\n",
    "    \n",
    "    def set_data(self, data):\n",
    "        self.data = data\n",
    "        \n",
    "    def set_next_node(self, next_node):\n",
    "        self.next_node = next_node\n",
    "        \n",
    "    def __repr__(self):\n",
    "        return str(self.data)\n",
    "    \n",
    "    def __str__(self):\n",
    "        return str(self.data)"
   ]
  },
  {
   "cell_type": "code",
   "execution_count": null,
   "metadata": {},
   "outputs": [],
   "source": [
    "node = Node(11)"
   ]
  },
  {
   "cell_type": "code",
   "execution_count": null,
   "metadata": {},
   "outputs": [],
   "source": [
    "print(node)"
   ]
  },
  {
   "cell_type": "code",
   "execution_count": null,
   "metadata": {},
   "outputs": [],
   "source": []
  },
  {
   "cell_type": "code",
   "execution_count": null,
   "metadata": {},
   "outputs": [],
   "source": [
    "n_node = Node(12)"
   ]
  },
  {
   "cell_type": "code",
   "execution_count": null,
   "metadata": {},
   "outputs": [],
   "source": [
    "node.set_next_node(n_node)"
   ]
  },
  {
   "cell_type": "code",
   "execution_count": null,
   "metadata": {},
   "outputs": [],
   "source": [
    "print(node.next_node.data)"
   ]
  },
  {
   "cell_type": "code",
   "execution_count": null,
   "metadata": {},
   "outputs": [],
   "source": [
    "#lINKED LIST\n",
    "class LinkedList:\n",
    "    def __init__(self, head):\n",
    "        self.head=head\n",
    "    \n",
    "    def get_head(self):\n",
    "        return self.head\n",
    "    \n",
    "    def set_head(self, node):\n",
    "        self.head = node\n",
    "        \n",
    "    def insert(self, data):\n",
    "        new_node = Node()\n",
    "        new_node.data = data\n",
    "        new_node.next_node = self.head\n",
    "        self.head = new_node\n",
    "    \n",
    "    def insert_node(self, node):\n",
    "        if self.head is None:\n",
    "            head = node;\n",
    "        temp = self.head\n",
    "        while temp.get_next_node() is not None:\n",
    "            temp = temp.get_next_node()\n",
    "        temp.set_next_node(node)\n",
    "        \n",
    "    def search(self, val):\n",
    "        ret_val = None\n",
    "        temp = self.head\n",
    "        while temp is not None:\n",
    "            if(temp.data == val):\n",
    "                ret_val = temp\n",
    "                break\n",
    "            temp = temp.next_node\n",
    "        return ret_val\n",
    "    \n",
    "    def delete(self, data):\n",
    "        curr = self.head\n",
    "        is_found = False\n",
    "        prev = None\n",
    "        while curr is not None:\n",
    "            if curr.get_data() == data:\n",
    "                is_found = True\n",
    "                if prev is None:\n",
    "                    self.head = curr.get_next_node()\n",
    "                    break\n",
    "                prev.set_next_node(curr.get_next_node())\n",
    "                break\n",
    "            prev = curr\n",
    "            curr = curr.get_next_node()\n",
    "        return is_found"
   ]
  },
  {
   "cell_type": "code",
   "execution_count": null,
   "metadata": {},
   "outputs": [],
   "source": [
    "llist = LinkedList(node)"
   ]
  },
  {
   "cell_type": "code",
   "execution_count": null,
   "metadata": {},
   "outputs": [],
   "source": [
    "print(llist.head.next_node.data)"
   ]
  },
  {
   "cell_type": "code",
   "execution_count": null,
   "metadata": {},
   "outputs": [],
   "source": []
  },
  {
   "cell_type": "code",
   "execution_count": null,
   "metadata": {},
   "outputs": [],
   "source": [
    "llist.insert(13)"
   ]
  },
  {
   "cell_type": "code",
   "execution_count": null,
   "metadata": {},
   "outputs": [],
   "source": [
    "x = llist.search(16)"
   ]
  },
  {
   "cell_type": "code",
   "execution_count": null,
   "metadata": {},
   "outputs": [],
   "source": [
    "print(x)"
   ]
  },
  {
   "cell_type": "code",
   "execution_count": null,
   "metadata": {},
   "outputs": [],
   "source": [
    "llist.delete(16)"
   ]
  },
  {
   "cell_type": "code",
   "execution_count": null,
   "metadata": {},
   "outputs": [],
   "source": [
    "llist.delete(13)"
   ]
  },
  {
   "cell_type": "code",
   "execution_count": null,
   "metadata": {},
   "outputs": [],
   "source": [
    "def print_linked_list(linked_list):\n",
    "    curr = linked_list.head\n",
    "    while curr is not None:\n",
    "        print(curr.get_data())\n",
    "        curr = curr.get_next_node()"
   ]
  },
  {
   "cell_type": "code",
   "execution_count": null,
   "metadata": {},
   "outputs": [],
   "source": [
    "llist.insert(99)\n",
    "llist.insert(32)\n",
    "llist.insert(87)\n",
    "llist.insert(67)\n",
    "llist.insert(34)"
   ]
  },
  {
   "cell_type": "code",
   "execution_count": null,
   "metadata": {},
   "outputs": [],
   "source": [
    "print_linked_list(llist)"
   ]
  },
  {
   "cell_type": "code",
   "execution_count": null,
   "metadata": {},
   "outputs": [],
   "source": [
    "# fINDING THE MIDDLE ELEMENT\n",
    "node11 = Node(1)\n",
    "llist1 = LinkedList(node11)\n",
    "llist1.insert(2)\n",
    "llist1.insert(3)\n",
    "llist1.insert(4)\n",
    "llist1.insert(5)"
   ]
  },
  {
   "cell_type": "code",
   "execution_count": null,
   "metadata": {},
   "outputs": [],
   "source": [
    "def get_middle_element_of_list(linked_list):\n",
    "    fast = linked_list.head\n",
    "    slow = linked_list.head\n",
    "    while (fast is not None) and (fast.get_next_node() is not None):\n",
    "        fast=fast.get_next_node().get_next_node()\n",
    "        slow=slow.get_next_node()\n",
    "    return slow"
   ]
  },
  {
   "cell_type": "code",
   "execution_count": null,
   "metadata": {},
   "outputs": [],
   "source": []
  },
  {
   "cell_type": "code",
   "execution_count": null,
   "metadata": {},
   "outputs": [],
   "source": [
    "print(get_middle_element_of_list(llist1).data)"
   ]
  },
  {
   "cell_type": "code",
   "execution_count": null,
   "metadata": {
    "scrolled": true
   },
   "outputs": [],
   "source": [
    "print(llist1)"
   ]
  },
  {
   "cell_type": "code",
   "execution_count": null,
   "metadata": {},
   "outputs": [],
   "source": [
    "print_linked_list(llist1)"
   ]
  },
  {
   "cell_type": "code",
   "execution_count": null,
   "metadata": {},
   "outputs": [],
   "source": [
    "# FINDING Kth ELEMENT FROM BEHIND THE LIST\n",
    "def find_kth_element_from_behind(linked_list, k):\n",
    "    fast=linked_list.head\n",
    "    slow=linked_list.head\n",
    "\n",
    "    while (fast is not None):\n",
    "        if k>0:\n",
    "            k=k-1\n",
    "            fast=fast.get_next_node()\n",
    "            continue;\n",
    "        slow=slow.get_next_node()\n",
    "        fast=fast.get_next_node()\n",
    "    return slow"
   ]
  },
  {
   "cell_type": "code",
   "execution_count": null,
   "metadata": {},
   "outputs": [],
   "source": [
    "print(find_kth_element_from_behind(llist1, 3).get_data())"
   ]
  },
  {
   "cell_type": "code",
   "execution_count": null,
   "metadata": {},
   "outputs": [],
   "source": []
  },
  {
   "cell_type": "code",
   "execution_count": null,
   "metadata": {},
   "outputs": [],
   "source": [
    "# Check a cycle in a linked list"
   ]
  },
  {
   "cell_type": "code",
   "execution_count": null,
   "metadata": {},
   "outputs": [],
   "source": [
    "node_cycle1 = Node(100)\n",
    "llist2 = LinkedList(node_cycle1)\n",
    "node_cycle2 = Node(90)\n",
    "node_cycle3 = Node(80)\n",
    "node_cycle4 = Node(70)\n",
    "node_cycle5 = Node(60)\n",
    "node_cycle6 = Node(50)\n",
    "node_cycle7 = Node(40)\n",
    "node_cycle8 = Node(30)\n",
    "node_cycle9 = Node(20)\n",
    "node_cycle10 = Node(10)"
   ]
  },
  {
   "cell_type": "code",
   "execution_count": null,
   "metadata": {},
   "outputs": [],
   "source": [
    "llist2.insert_node(node_cycle2)\n",
    "llist2.insert_node(node_cycle3)\n",
    "llist2.insert_node(node_cycle4)\n",
    "llist2.insert_node(node_cycle5)\n",
    "llist2.insert_node(node_cycle6)\n",
    "llist2.insert_node(node_cycle7)\n",
    "llist2.insert_node(node_cycle8)\n",
    "llist2.insert_node(node_cycle9)\n",
    "llist2.insert_node(node_cycle10)"
   ]
  },
  {
   "cell_type": "code",
   "execution_count": null,
   "metadata": {},
   "outputs": [],
   "source": [
    "print_linked_list(llist2)"
   ]
  },
  {
   "cell_type": "code",
   "execution_count": null,
   "metadata": {},
   "outputs": [],
   "source": [
    "node_cycle1.set_next_node(node_cycle7)"
   ]
  },
  {
   "cell_type": "code",
   "execution_count": null,
   "metadata": {},
   "outputs": [],
   "source": [
    "def cycle_exists(linked_list):\n",
    "    if linked_list.head == None:\n",
    "        return None\n",
    "    fast = linked_list.head\n",
    "    slow = linked_list.head\n",
    "    \n",
    "    while ((fast is not None) and (fast.get_next_node() is not None)):\n",
    "        fast = fast.get_next_node().get_next_node()\n",
    "        slow = slow.get_next_node()\n",
    "        if (fast == slow):\n",
    "            return True\n",
    "    \n",
    "    return False"
   ]
  },
  {
   "cell_type": "code",
   "execution_count": null,
   "metadata": {},
   "outputs": [],
   "source": [
    "cycle_exists(llist2)"
   ]
  },
  {
   "cell_type": "code",
   "execution_count": null,
   "metadata": {},
   "outputs": [],
   "source": [
    "def get_join_point(linked_list):\n",
    "    fast = linked_list.head\n",
    "    slow = linked_list.head\n",
    "    \n",
    "    while ((fast is not None) and (fast.get_next_node() is not None)):\n",
    "        fast = fast.get_next_node().get_next_node()\n",
    "        slow = slow.get_next_node()\n",
    "        if (fast == slow):\n",
    "            slow = linked_list.head\n",
    "            while(slow != fast):\n",
    "                slow = slow.get_next_node()\n",
    "                fast = fast.get_next_node() \n",
    "            return fast"
   ]
  },
  {
   "cell_type": "code",
   "execution_count": null,
   "metadata": {},
   "outputs": [],
   "source": [
    "x = get_join_point(llist2)"
   ]
  },
  {
   "cell_type": "code",
   "execution_count": null,
   "metadata": {},
   "outputs": [],
   "source": [
    "print(x)"
   ]
  },
  {
   "cell_type": "code",
   "execution_count": null,
   "metadata": {},
   "outputs": [],
   "source": [
    "node_cycle11 = Node(10)\n",
    "llist3 = LinkedList(node_cycle11)\n",
    "node_cycle12 = Node(20)\n",
    "node_cycle13 = Node(30)\n",
    "node_cycle14 = Node(40)\n",
    "\n",
    "llist3.insert_node(node_cycle12)\n",
    "llist3.insert_node(node_cycle13)\n",
    "llist3.insert_node(node_cycle14)"
   ]
  },
  {
   "cell_type": "code",
   "execution_count": null,
   "metadata": {},
   "outputs": [],
   "source": [
    "print_linked_list(llist3)"
   ]
  },
  {
   "cell_type": "code",
   "execution_count": null,
   "metadata": {},
   "outputs": [],
   "source": []
  },
  {
   "cell_type": "code",
   "execution_count": null,
   "metadata": {},
   "outputs": [],
   "source": []
  }
 ],
 "metadata": {
  "kernelspec": {
   "display_name": "Python 3",
   "language": "python",
   "name": "python3"
  },
  "language_info": {
   "codemirror_mode": {
    "name": "ipython",
    "version": 3
   },
   "file_extension": ".py",
   "mimetype": "text/x-python",
   "name": "python",
   "nbconvert_exporter": "python",
   "pygments_lexer": "ipython3",
   "version": "3.6.4"
  }
 },
 "nbformat": 4,
 "nbformat_minor": 2
}
